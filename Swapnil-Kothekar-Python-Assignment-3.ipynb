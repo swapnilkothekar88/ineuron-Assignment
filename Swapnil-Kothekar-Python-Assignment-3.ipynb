{
 "cells": [
  {
   "cell_type": "markdown",
   "metadata": {},
   "source": [
    "#1.1 Write a Python Program to implement your own myreduce() function which works exactly like Python's built-in function reduce()"
   ]
  },
  {
   "cell_type": "code",
   "execution_count": 1,
   "metadata": {},
   "outputs": [
    {
     "name": "stdout",
     "output_type": "stream",
     "text": [
      "120\n"
     ]
    }
   ],
   "source": [
    "\"\"\"\n",
    "    @Method name: myreduce\n",
    "    @param:  typeOfMethod,customerList\n",
    "    @returns:  int\n",
    "    @description: Custom Method for the reduce\n",
    "    @version:  1.0\n",
    "    @access_type:  public\n",
    "\"\"\"\n",
    "def myreduce(typeOfMethod,customerList):\n",
    "    result = customerList[0]\n",
    "    for i in customerList[1:]:\n",
    "        result = typeOfMethod(result,i)\n",
    "    return result\n",
    "\n",
    "\"\"\"\n",
    "    @Method name: mul\n",
    "    @param:  x,y\n",
    "    @returns:  int\n",
    "    @description: multiply the two variables return items of variables\n",
    "    @version:  1.0\n",
    "    @access_type:  public\n",
    "\"\"\"\n",
    "def mul(x,y): return x * y \n",
    "\n",
    "customReduce = myreduce(mul,[1,2,3,4,5])\n",
    "print(customReduce)"
   ]
  },
  {
   "cell_type": "markdown",
   "metadata": {},
   "source": [
    "#1.2 Write a Python Program to implemet your own myfilter() function which works exactly like Python built-i  functoin filter();"
   ]
  },
  {
   "cell_type": "code",
   "execution_count": 2,
   "metadata": {},
   "outputs": [
    {
     "name": "stdout",
     "output_type": "stream",
     "text": [
      "[1, 2, 0, 8]\n"
     ]
    }
   ],
   "source": [
    "\"\"\"\n",
    "    @Method name: isPositive\n",
    "    @param:  x\n",
    "    @returns:  booelan\n",
    "    @description: Check given number is +ve or -ve\n",
    "    @version:  1.0\n",
    "    @access_type:  public\n",
    "\"\"\"\n",
    "def isPositive(x: int):\n",
    "    if x >= 0:\n",
    "        return True\n",
    "    else:\n",
    "        return False\n",
    "\n",
    "\"\"\"\n",
    "    @Method name: myFilter\n",
    "    @param:  isPositive,myList\n",
    "    @returns:  list of Boolean value\n",
    "    @description: Check given number is +ve or -ve\n",
    "    @version:  1.0\n",
    "    @access_type:  public\n",
    "\"\"\"\n",
    "def myFilter(isPositive,myList):\n",
    "    # Init with Empty List\n",
    "    result = []\n",
    "    for i in myList:\n",
    "        if isPositive(i):\n",
    "            result.append(i)\n",
    "    \n",
    "    return result\n",
    "\n",
    "customFilter = myFilter(isPositive,[1,2,-1,-2,0,8,-9,-10])\n",
    "print(customFilter)"
   ]
  },
  {
   "cell_type": "markdown",
   "metadata": {},
   "source": [
    "#2 Implement List Comprehensions to produce the following lits"
   ]
  },
  {
   "cell_type": "code",
   "execution_count": 4,
   "metadata": {},
   "outputs": [
    {
     "name": "stdout",
     "output_type": "stream",
     "text": [
      "['x', 'xx', 'xxx', 'xxxx', 'y', 'yy', 'yyy', 'yyyy', 'z', 'zz', 'zzz', 'zzzz']\n"
     ]
    }
   ],
   "source": [
    "# 2.1 ['x','xx','xxx','y','yy','yyy','z','zz','zzz']\n",
    "\n",
    "firstList = ['x','y','z']\n",
    "list_one = [ i * num for i in firstList for num in range(1,5) ]\n",
    "print(list_one)"
   ]
  },
  {
   "cell_type": "code",
   "execution_count": 5,
   "metadata": {},
   "outputs": [
    {
     "name": "stdout",
     "output_type": "stream",
     "text": [
      "['x', 'y', 'z', 'xx', 'yy', 'zz', 'xxx', 'yyy', 'zzz', 'xxxx', 'yyyy', 'zzzz']\n"
     ]
    }
   ],
   "source": [
    "# 2.2 ['x','y','z','xx','yy','zz','xxx','yyy','zzz','xxxx','yyyy','zzzz']\n",
    "second_list = ['x','y','z']\n",
    "list_second = [ i * num for num in range(1,5) for i in second_list  ]\n",
    "print(list_second)"
   ]
  },
  {
   "cell_type": "code",
   "execution_count": 6,
   "metadata": {},
   "outputs": [],
   "source": [
    "# 2.3 [ [2],[3],[4],[3],[4],[5],[4],[5],[6] ] , [ [2,3,4,5],[3,4,5,6],[4,5,6,7],[5,6,7,8] ]\n",
    "thrid_list = [2,3,4]\n",
    "list_thrid = [ [i+item] for i in thrid_list for item in range(0,3) ]"
   ]
  },
  {
   "cell_type": "code",
   "execution_count": 7,
   "metadata": {},
   "outputs": [
    {
     "name": "stdout",
     "output_type": "stream",
     "text": [
      "[[2], [3], [4], [3], [4], [5], [4], [5], [6], [2, 3, 4, 5], [3, 4, 5, 6], [4, 5, 6, 7], [5, 6, 7, 8], [6, 7, 8, 9]]\n"
     ]
    }
   ],
   "source": [
    "four_list = [2,3,4,5]\n",
    "list_four = [ [i+item  for i in four_list] for item in range(0,5) ]\n",
    "print(list_thrid + list_four)"
   ]
  },
  {
   "cell_type": "code",
   "execution_count": 8,
   "metadata": {},
   "outputs": [
    {
     "name": "stdout",
     "output_type": "stream",
     "text": [
      "[(1, 1), (2, 1), (3, 1), (1, 2), (2, 2), (3, 2), (1, 3), (2, 3), (3, 3)]\n"
     ]
    }
   ],
   "source": [
    "# 2.4 [(1,1),(2,1),(3,1),(2,1),(2,2),(2,3),(3,1),(3,2),(3,3)]\n",
    "five_list = [1,2,3]\n",
    "list_five = [ (item,i) for i in five_list for item in range(1,4) ]\n",
    "print(list_five)"
   ]
  },
  {
   "cell_type": "code",
   "execution_count": null,
   "metadata": {},
   "outputs": [],
   "source": []
  }
 ],
 "metadata": {
  "kernelspec": {
   "display_name": "Python 3",
   "language": "python",
   "name": "python3"
  },
  "language_info": {
   "codemirror_mode": {
    "name": "ipython",
    "version": 3
   },
   "file_extension": ".py",
   "mimetype": "text/x-python",
   "name": "python",
   "nbconvert_exporter": "python",
   "pygments_lexer": "ipython3",
   "version": "3.7.2"
  }
 },
 "nbformat": 4,
 "nbformat_minor": 2
}
