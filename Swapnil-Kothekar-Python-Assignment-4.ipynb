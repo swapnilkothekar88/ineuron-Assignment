{
 "cells": [
  {
   "cell_type": "markdown",
   "metadata": {},
   "source": [
    "#1.1 Write a Python Program(with class concepts) to find the area of the triangle using the below formula. area = (s*(s-a)*(s-b)*(s-c)) ** 0.5"
   ]
  },
  {
   "cell_type": "code",
   "execution_count": 1,
   "metadata": {},
   "outputs": [
    {
     "name": "stdout",
     "output_type": "stream",
     "text": [
      "Enter First Side of Area: 2\n",
      "Enter Second Side of Area: 3\n",
      "Enter Thrid Side of Area: 4\n",
      "Area of the triangle %0.2f 2.9047375096555625\n"
     ]
    }
   ],
   "source": [
    "a = float(input(\"Enter First Side of Area: \"))\n",
    "b = float(input(\"Enter Second Side of Area: \"))\n",
    "c = float(input(\"Enter Thrid Side of Area: \"))\n",
    "\n",
    "class AreaOfTriangle(): \n",
    "\n",
    "    \"\"\"\n",
    "    @Method name: __init__\n",
    "    @param:  self,a,b,c\n",
    "    @returns:  none\n",
    "    @description: Init the variable of the class\n",
    "    @version:  1.0\n",
    "    @access_type:  private\n",
    "    \"\"\"\n",
    "    def __init__(self,a,b,c):\n",
    "        self.a = a\n",
    "        self.b = b\n",
    "        self.c = c \n",
    "\n",
    "# # This class is extend with Super class AreaofTrinagle\n",
    "class calculate(AreaOfTriangle):\n",
    "\n",
    "    def __init__(self):\n",
    "        super(calculate,self).__init__(a,b,c)\n",
    "\n",
    "    \"\"\"\n",
    "    @Method name: calculateArea\n",
    "    @param:  self\n",
    "    @returns:  none\n",
    "    @description: Calculate the area of Triaangle\n",
    "    @version:  1.0\n",
    "    @access_type:  public\n",
    "    \"\"\"\n",
    "    def calculateArea(self): \n",
    "        s = (self.a + self.b + self.c) / 2\n",
    "        area = float((s*(s-self.a)*(s-self.b)*(s-self.c)) ** 0.5)\n",
    "        print('Area of the triangle %0.2f',area) \n",
    "\n",
    "objArea = calculate()\n",
    "objArea.calculateArea()"
   ]
  },
  {
   "cell_type": "markdown",
   "metadata": {},
   "source": [
    "#1.2 Write a function filter_long_words() that takes a list of words and an integer n and returns the list of words that are longer than n."
   ]
  },
  {
   "cell_type": "code",
   "execution_count": 2,
   "metadata": {},
   "outputs": [
    {
     "name": "stdout",
     "output_type": "stream",
     "text": [
      "Enter Number to check length of String: 7\n",
      "['Kothekar']\n"
     ]
    }
   ],
   "source": [
    "n = int(input('Enter Number to check length of String: ')) \n",
    "\n",
    "class FilterLongWord():\n",
    "\n",
    "    def __init__(self,n):\n",
    "        self.n = n\n",
    "\n",
    "    def filter_long_words(self):\n",
    "        longString = []\n",
    "        for word in ['Swapnil','Kothekar','Anagha','Sandeep','Prasnna']:\n",
    "            if len(word) > n:\n",
    "                longString.append(word)\n",
    "        print(longString)\n",
    "\n",
    "objFilter = FilterLongWord(n)\n",
    "objFilter.filter_long_words()"
   ]
  },
  {
   "cell_type": "markdown",
   "metadata": {},
   "source": [
    "#2.1 Write a Python program using function concept that maps list of words into a list of integers  representing the lengths of the corresponding words. Hint: If a list [ ab,cde,erty] is passed on to the python function output should come as [2,3,4] Here 2,3 and 4 are the lengths of the words in the list."
   ]
  },
  {
   "cell_type": "code",
   "execution_count": 3,
   "metadata": {},
   "outputs": [
    {
     "name": "stdout",
     "output_type": "stream",
     "text": [
      "Enter Comas seprated Names list: swapnil,kothekar\n",
      "[7, 8]\n"
     ]
    }
   ],
   "source": [
    "inputList = input('Enter Comas seprated Names list: ')\n",
    "custom_list = inputList.split(',')\n",
    "\n",
    "class GetLengthList():\n",
    "\n",
    "    def __init__(self,custom_list):\n",
    "        self.custom_list = custom_list\n",
    "    \n",
    "    def calculateLengthOfString(self): \n",
    "        if(type(self.custom_list) == list and self.custom_list):\n",
    "            tempList = []\n",
    "            for word in self.custom_list:\n",
    "                tempList.append(len(word))\n",
    "            print(tempList)\n",
    "        else:\n",
    "            print('Please enter Comas seprated Value')\n",
    "\n",
    "objGetlength = GetLengthList(custom_list)\n",
    "objGetlength.calculateLengthOfString()"
   ]
  },
  {
   "cell_type": "markdown",
   "metadata": {},
   "source": [
    "#2.2 Write a Python function which takes a character (i.e. a string of length 1) and returns True if it is a vowel, False otherwise."
   ]
  },
  {
   "cell_type": "code",
   "execution_count": 5,
   "metadata": {},
   "outputs": [
    {
     "name": "stdout",
     "output_type": "stream",
     "text": [
      "Enter Single Letter: a\n",
      "True\n"
     ]
    }
   ],
   "source": [
    "class Vowel():\n",
    "\n",
    "    letter = input('Enter Single Letter: ')\n",
    "    vowel = ['a','e','i','o','u']\n",
    "\n",
    "    def __init__(self):\n",
    "        pass\n",
    "\n",
    "    def checkVowel(self):\n",
    "        if self.letter in self.vowel:\n",
    "            print('True')\n",
    "        else: \n",
    "            print('False')\n",
    "\n",
    "objVowel = Vowel()\n",
    "objVowel.checkVowel()"
   ]
  },
  {
   "cell_type": "code",
   "execution_count": null,
   "metadata": {},
   "outputs": [],
   "source": []
  }
 ],
 "metadata": {
  "kernelspec": {
   "display_name": "Python 3",
   "language": "python",
   "name": "python3"
  },
  "language_info": {
   "codemirror_mode": {
    "name": "ipython",
    "version": 3
   },
   "file_extension": ".py",
   "mimetype": "text/x-python",
   "name": "python",
   "nbconvert_exporter": "python",
   "pygments_lexer": "ipython3",
   "version": "3.7.2"
  }
 },
 "nbformat": 4,
 "nbformat_minor": 2
}
